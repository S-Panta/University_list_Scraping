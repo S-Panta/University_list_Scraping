{
  "cells": [
    {
      "cell_type": "markdown",
      "metadata": {
        "id": "view-in-github",
        "colab_type": "text"
      },
      "source": [
        "<a href=\"https://colab.research.google.com/github/S-Panta/University_list_Scraping/blob/main/University.ipynb\" target=\"_parent\"><img src=\"https://colab.research.google.com/assets/colab-badge.svg\" alt=\"Open In Colab\"/></a>"
      ]
    },
    {
      "cell_type": "code",
      "execution_count": 100,
      "metadata": {
        "id": "7_pnqWhUPzx-"
      },
      "outputs": [],
      "source": [
        "import csv\n",
        "import requests\n",
        "from bs4 import BeautifulSoup\n",
        "import pandas as pd"
      ]
    },
    {
      "cell_type": "code",
      "execution_count": 101,
      "metadata": {
        "id": "ogSXu_whO_f6"
      },
      "outputs": [],
      "source": [
        "def extract(page):\n",
        "  headers={\"User-Agent\":\"Mozilla/5.0 (Windows NT 10.0; Win64; x64) AppleWebKit/537.36 (KHTML, like Gecko) Chrome/103.0.0.0 Safari/537.36\"}\n",
        "  url=f'https://www.cuahsi.org/students/graduate-programs-in-water-science/masters/p{page}'\n",
        "  response=requests.get(url,headers)\n",
        "  soup=BeautifulSoup(response.text,'html.parser')\n",
        "  return soup"
      ]
    },
    {
      "cell_type": "code",
      "execution_count": 102,
      "metadata": {
        "id": "ihvHlNvYQuRo"
      },
      "outputs": [],
      "source": [
        "def value(soup):\n",
        "  cards=soup.find_all('div',class_='col-md-12 jobs pt-5')\n",
        "  for items in cards:\n",
        "    University_name=items.find('a').text.strip()\n",
        "    department=items.find('p').text\n",
        "    values={\n",
        "        'University':University_name,\n",
        "        'Summary':department\n",
        "    }\n",
        "    University_list.append(values)\n",
        "  return"
      ]
    },
    {
      "cell_type": "code",
      "execution_count": 103,
      "metadata": {
        "id": "2f3OPjIIWNde"
      },
      "outputs": [],
      "source": [
        "University_list=[]"
      ]
    },
    {
      "cell_type": "code",
      "source": [
        "for i in range(1,10,1):\n",
        "  print(f'Reading pages,{i}')\n",
        "  c=extract(i)\n",
        "  value(c)"
      ],
      "metadata": {
        "id": "WPSymFCqY0cD",
        "colab": {
          "base_uri": "https://localhost:8080/"
        },
        "outputId": "51662ea0-511e-4f5f-d651-a560a0abcd98"
      },
      "execution_count": 104,
      "outputs": [
        {
          "output_type": "stream",
          "name": "stdout",
          "text": [
            "Reading pages,1\n",
            "Reading pages,2\n",
            "Reading pages,3\n",
            "Reading pages,4\n",
            "Reading pages,5\n",
            "Reading pages,6\n",
            "Reading pages,7\n",
            "Reading pages,8\n",
            "Reading pages,9\n"
          ]
        }
      ]
    },
    {
      "cell_type": "code",
      "source": [
        "df111=pd.DataFrame(University_list)\n",
        "df111"
      ],
      "metadata": {
        "colab": {
          "base_uri": "https://localhost:8080/",
          "height": 423
        },
        "id": "XrjgsBGQZXNh",
        "outputId": "cbee1d07-a2b4-4cb4-bcfe-80710e63177a"
      },
      "execution_count": 109,
      "outputs": [
        {
          "output_type": "execute_result",
          "data": {
            "text/plain": [
              "                           University  \\\n",
              "0            Arizona State University   \n",
              "1              Boise State University   \n",
              "2            City College of New York   \n",
              "3                 Clarkson University   \n",
              "4                  Clemson University   \n",
              "..                                ...   \n",
              "76  University of Wisconsin - Madison   \n",
              "77  University of Wisconsin-Milwaukee   \n",
              "78              University of Wyoming   \n",
              "79               University of Zurich   \n",
              "80              Utah State University   \n",
              "\n",
              "                                              Summary  \n",
              "0   School of Sustainable Engineering and The Buil...  \n",
              "1   The Hydrologic Science MS program attracts stu...  \n",
              "2           Department of Civil Engineering M.S, Ph.D  \n",
              "3                   Water Resources Engineering group  \n",
              "4                                 Hydrogeology (M.S.)  \n",
              "..                                                ...  \n",
              "76   Water Resources Management (WRM) program in t...  \n",
              "77                      Freshwater Sciences Academics  \n",
              "78  Water Resources/Environmental Science and Engi...  \n",
              "79  Master in Geography and Master in Earth System...  \n",
              "80     Interdiscilplinary Water Science and Education  \n",
              "\n",
              "[81 rows x 2 columns]"
            ],
            "text/html": [
              "\n",
              "  <div id=\"df-d7391a55-ab14-456d-86cf-7c2bcf103282\">\n",
              "    <div class=\"colab-df-container\">\n",
              "      <div>\n",
              "<style scoped>\n",
              "    .dataframe tbody tr th:only-of-type {\n",
              "        vertical-align: middle;\n",
              "    }\n",
              "\n",
              "    .dataframe tbody tr th {\n",
              "        vertical-align: top;\n",
              "    }\n",
              "\n",
              "    .dataframe thead th {\n",
              "        text-align: right;\n",
              "    }\n",
              "</style>\n",
              "<table border=\"1\" class=\"dataframe\">\n",
              "  <thead>\n",
              "    <tr style=\"text-align: right;\">\n",
              "      <th></th>\n",
              "      <th>University</th>\n",
              "      <th>Summary</th>\n",
              "    </tr>\n",
              "  </thead>\n",
              "  <tbody>\n",
              "    <tr>\n",
              "      <th>0</th>\n",
              "      <td>Arizona State University</td>\n",
              "      <td>School of Sustainable Engineering and The Buil...</td>\n",
              "    </tr>\n",
              "    <tr>\n",
              "      <th>1</th>\n",
              "      <td>Boise State University</td>\n",
              "      <td>The Hydrologic Science MS program attracts stu...</td>\n",
              "    </tr>\n",
              "    <tr>\n",
              "      <th>2</th>\n",
              "      <td>City College of New York</td>\n",
              "      <td>Department of Civil Engineering M.S, Ph.D</td>\n",
              "    </tr>\n",
              "    <tr>\n",
              "      <th>3</th>\n",
              "      <td>Clarkson University</td>\n",
              "      <td>Water Resources Engineering group</td>\n",
              "    </tr>\n",
              "    <tr>\n",
              "      <th>4</th>\n",
              "      <td>Clemson University</td>\n",
              "      <td>Hydrogeology (M.S.)</td>\n",
              "    </tr>\n",
              "    <tr>\n",
              "      <th>...</th>\n",
              "      <td>...</td>\n",
              "      <td>...</td>\n",
              "    </tr>\n",
              "    <tr>\n",
              "      <th>76</th>\n",
              "      <td>University of Wisconsin - Madison</td>\n",
              "      <td>Water Resources Management (WRM) program in t...</td>\n",
              "    </tr>\n",
              "    <tr>\n",
              "      <th>77</th>\n",
              "      <td>University of Wisconsin-Milwaukee</td>\n",
              "      <td>Freshwater Sciences Academics</td>\n",
              "    </tr>\n",
              "    <tr>\n",
              "      <th>78</th>\n",
              "      <td>University of Wyoming</td>\n",
              "      <td>Water Resources/Environmental Science and Engi...</td>\n",
              "    </tr>\n",
              "    <tr>\n",
              "      <th>79</th>\n",
              "      <td>University of Zurich</td>\n",
              "      <td>Master in Geography and Master in Earth System...</td>\n",
              "    </tr>\n",
              "    <tr>\n",
              "      <th>80</th>\n",
              "      <td>Utah State University</td>\n",
              "      <td>Interdiscilplinary Water Science and Education</td>\n",
              "    </tr>\n",
              "  </tbody>\n",
              "</table>\n",
              "<p>81 rows × 2 columns</p>\n",
              "</div>\n",
              "      <button class=\"colab-df-convert\" onclick=\"convertToInteractive('df-d7391a55-ab14-456d-86cf-7c2bcf103282')\"\n",
              "              title=\"Convert this dataframe to an interactive table.\"\n",
              "              style=\"display:none;\">\n",
              "        \n",
              "  <svg xmlns=\"http://www.w3.org/2000/svg\" height=\"24px\"viewBox=\"0 0 24 24\"\n",
              "       width=\"24px\">\n",
              "    <path d=\"M0 0h24v24H0V0z\" fill=\"none\"/>\n",
              "    <path d=\"M18.56 5.44l.94 2.06.94-2.06 2.06-.94-2.06-.94-.94-2.06-.94 2.06-2.06.94zm-11 1L8.5 8.5l.94-2.06 2.06-.94-2.06-.94L8.5 2.5l-.94 2.06-2.06.94zm10 10l.94 2.06.94-2.06 2.06-.94-2.06-.94-.94-2.06-.94 2.06-2.06.94z\"/><path d=\"M17.41 7.96l-1.37-1.37c-.4-.4-.92-.59-1.43-.59-.52 0-1.04.2-1.43.59L10.3 9.45l-7.72 7.72c-.78.78-.78 2.05 0 2.83L4 21.41c.39.39.9.59 1.41.59.51 0 1.02-.2 1.41-.59l7.78-7.78 2.81-2.81c.8-.78.8-2.07 0-2.86zM5.41 20L4 18.59l7.72-7.72 1.47 1.35L5.41 20z\"/>\n",
              "  </svg>\n",
              "      </button>\n",
              "      \n",
              "  <style>\n",
              "    .colab-df-container {\n",
              "      display:flex;\n",
              "      flex-wrap:wrap;\n",
              "      gap: 12px;\n",
              "    }\n",
              "\n",
              "    .colab-df-convert {\n",
              "      background-color: #E8F0FE;\n",
              "      border: none;\n",
              "      border-radius: 50%;\n",
              "      cursor: pointer;\n",
              "      display: none;\n",
              "      fill: #1967D2;\n",
              "      height: 32px;\n",
              "      padding: 0 0 0 0;\n",
              "      width: 32px;\n",
              "    }\n",
              "\n",
              "    .colab-df-convert:hover {\n",
              "      background-color: #E2EBFA;\n",
              "      box-shadow: 0px 1px 2px rgba(60, 64, 67, 0.3), 0px 1px 3px 1px rgba(60, 64, 67, 0.15);\n",
              "      fill: #174EA6;\n",
              "    }\n",
              "\n",
              "    [theme=dark] .colab-df-convert {\n",
              "      background-color: #3B4455;\n",
              "      fill: #D2E3FC;\n",
              "    }\n",
              "\n",
              "    [theme=dark] .colab-df-convert:hover {\n",
              "      background-color: #434B5C;\n",
              "      box-shadow: 0px 1px 3px 1px rgba(0, 0, 0, 0.15);\n",
              "      filter: drop-shadow(0px 1px 2px rgba(0, 0, 0, 0.3));\n",
              "      fill: #FFFFFF;\n",
              "    }\n",
              "  </style>\n",
              "\n",
              "      <script>\n",
              "        const buttonEl =\n",
              "          document.querySelector('#df-d7391a55-ab14-456d-86cf-7c2bcf103282 button.colab-df-convert');\n",
              "        buttonEl.style.display =\n",
              "          google.colab.kernel.accessAllowed ? 'block' : 'none';\n",
              "\n",
              "        async function convertToInteractive(key) {\n",
              "          const element = document.querySelector('#df-d7391a55-ab14-456d-86cf-7c2bcf103282');\n",
              "          const dataTable =\n",
              "            await google.colab.kernel.invokeFunction('convertToInteractive',\n",
              "                                                     [key], {});\n",
              "          if (!dataTable) return;\n",
              "\n",
              "          const docLinkHtml = 'Like what you see? Visit the ' +\n",
              "            '<a target=\"_blank\" href=https://colab.research.google.com/notebooks/data_table.ipynb>data table notebook</a>'\n",
              "            + ' to learn more about interactive tables.';\n",
              "          element.innerHTML = '';\n",
              "          dataTable['output_type'] = 'display_data';\n",
              "          await google.colab.output.renderOutput(dataTable, element);\n",
              "          const docLink = document.createElement('div');\n",
              "          docLink.innerHTML = docLinkHtml;\n",
              "          element.appendChild(docLink);\n",
              "        }\n",
              "      </script>\n",
              "    </div>\n",
              "  </div>\n",
              "  "
            ]
          },
          "metadata": {},
          "execution_count": 109
        }
      ]
    },
    {
      "cell_type": "code",
      "source": [
        "df111.to_excel('Excel_list.xlsx')"
      ],
      "metadata": {
        "id": "3WyFgSaxf1hc"
      },
      "execution_count": 110,
      "outputs": []
    }
  ],
  "metadata": {
    "colab": {
      "collapsed_sections": [],
      "name": "University.ipynb",
      "provenance": [],
      "authorship_tag": "ABX9TyPw/2bgZzwIui+Nte4YcYjk",
      "include_colab_link": true
    },
    "kernelspec": {
      "display_name": "Python 3",
      "name": "python3"
    },
    "language_info": {
      "name": "python"
    }
  },
  "nbformat": 4,
  "nbformat_minor": 0
}